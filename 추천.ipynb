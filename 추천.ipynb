{
  "nbformat": 4,
  "nbformat_minor": 0,
  "metadata": {
    "colab": {
      "provenance": [],
      "authorship_tag": "ABX9TyOzVQh76VhR7UTAaYhvP78M",
      "include_colab_link": true
    },
    "kernelspec": {
      "name": "python3",
      "display_name": "Python 3"
    },
    "language_info": {
      "name": "python"
    }
  },
  "cells": [
    {
      "cell_type": "markdown",
      "metadata": {
        "id": "view-in-github",
        "colab_type": "text"
      },
      "source": [
        "<a href=\"https://colab.research.google.com/github/junsung12/find_fraud/blob/master/%EC%B6%94%EC%B2%9C.ipynb\" target=\"_parent\"><img src=\"https://colab.research.google.com/assets/colab-badge.svg\" alt=\"Open In Colab\"/></a>"
      ]
    },
    {
      "cell_type": "code",
      "execution_count": null,
      "metadata": {
        "id": "5k8_El-XaALz"
      },
      "outputs": [],
      "source": [
        "import pandas as pd"
      ]
    },
    {
      "cell_type": "code",
      "source": [
        "df2 = pd.read_csv('/content/any_gen.csv')"
      ],
      "metadata": {
        "id": "l2ggWbB0aKEt"
      },
      "execution_count": null,
      "outputs": []
    },
    {
      "cell_type": "code",
      "source": [
        "df2.head(1)"
      ],
      "metadata": {
        "colab": {
          "base_uri": "https://localhost:8080/",
          "height": 81
        },
        "id": "VLvT_YxNbelZ",
        "outputId": "00726c7d-ff47-4546-ad5e-15dcb799c9f4"
      },
      "execution_count": null,
      "outputs": [
        {
          "output_type": "execute_result",
          "data": {
            "text/plain": [
              "   title   genre                                            summary\n",
              "0  은혼 1기  판타지,액션  에도 시대 말기, 하늘에서 내려온 ‘천인’의 침략으로 전쟁이 발생한다. 막부들은 결..."
            ],
            "text/html": [
              "\n",
              "  <div id=\"df-73351469-880d-45bc-ab1d-ebe4e55a38bc\" class=\"colab-df-container\">\n",
              "    <div>\n",
              "<style scoped>\n",
              "    .dataframe tbody tr th:only-of-type {\n",
              "        vertical-align: middle;\n",
              "    }\n",
              "\n",
              "    .dataframe tbody tr th {\n",
              "        vertical-align: top;\n",
              "    }\n",
              "\n",
              "    .dataframe thead th {\n",
              "        text-align: right;\n",
              "    }\n",
              "</style>\n",
              "<table border=\"1\" class=\"dataframe\">\n",
              "  <thead>\n",
              "    <tr style=\"text-align: right;\">\n",
              "      <th></th>\n",
              "      <th>title</th>\n",
              "      <th>genre</th>\n",
              "      <th>summary</th>\n",
              "    </tr>\n",
              "  </thead>\n",
              "  <tbody>\n",
              "    <tr>\n",
              "      <th>0</th>\n",
              "      <td>은혼 1기</td>\n",
              "      <td>판타지,액션</td>\n",
              "      <td>에도 시대 말기, 하늘에서 내려온 ‘천인’의 침략으로 전쟁이 발생한다. 막부들은 결...</td>\n",
              "    </tr>\n",
              "  </tbody>\n",
              "</table>\n",
              "</div>\n",
              "    <div class=\"colab-df-buttons\">\n",
              "\n",
              "  <div class=\"colab-df-container\">\n",
              "    <button class=\"colab-df-convert\" onclick=\"convertToInteractive('df-73351469-880d-45bc-ab1d-ebe4e55a38bc')\"\n",
              "            title=\"Convert this dataframe to an interactive table.\"\n",
              "            style=\"display:none;\">\n",
              "\n",
              "  <svg xmlns=\"http://www.w3.org/2000/svg\" height=\"24px\" viewBox=\"0 -960 960 960\">\n",
              "    <path d=\"M120-120v-720h720v720H120Zm60-500h600v-160H180v160Zm220 220h160v-160H400v160Zm0 220h160v-160H400v160ZM180-400h160v-160H180v160Zm440 0h160v-160H620v160ZM180-180h160v-160H180v160Zm440 0h160v-160H620v160Z\"/>\n",
              "  </svg>\n",
              "    </button>\n",
              "\n",
              "  <style>\n",
              "    .colab-df-container {\n",
              "      display:flex;\n",
              "      gap: 12px;\n",
              "    }\n",
              "\n",
              "    .colab-df-convert {\n",
              "      background-color: #E8F0FE;\n",
              "      border: none;\n",
              "      border-radius: 50%;\n",
              "      cursor: pointer;\n",
              "      display: none;\n",
              "      fill: #1967D2;\n",
              "      height: 32px;\n",
              "      padding: 0 0 0 0;\n",
              "      width: 32px;\n",
              "    }\n",
              "\n",
              "    .colab-df-convert:hover {\n",
              "      background-color: #E2EBFA;\n",
              "      box-shadow: 0px 1px 2px rgba(60, 64, 67, 0.3), 0px 1px 3px 1px rgba(60, 64, 67, 0.15);\n",
              "      fill: #174EA6;\n",
              "    }\n",
              "\n",
              "    .colab-df-buttons div {\n",
              "      margin-bottom: 4px;\n",
              "    }\n",
              "\n",
              "    [theme=dark] .colab-df-convert {\n",
              "      background-color: #3B4455;\n",
              "      fill: #D2E3FC;\n",
              "    }\n",
              "\n",
              "    [theme=dark] .colab-df-convert:hover {\n",
              "      background-color: #434B5C;\n",
              "      box-shadow: 0px 1px 3px 1px rgba(0, 0, 0, 0.15);\n",
              "      filter: drop-shadow(0px 1px 2px rgba(0, 0, 0, 0.3));\n",
              "      fill: #FFFFFF;\n",
              "    }\n",
              "  </style>\n",
              "\n",
              "    <script>\n",
              "      const buttonEl =\n",
              "        document.querySelector('#df-73351469-880d-45bc-ab1d-ebe4e55a38bc button.colab-df-convert');\n",
              "      buttonEl.style.display =\n",
              "        google.colab.kernel.accessAllowed ? 'block' : 'none';\n",
              "\n",
              "      async function convertToInteractive(key) {\n",
              "        const element = document.querySelector('#df-73351469-880d-45bc-ab1d-ebe4e55a38bc');\n",
              "        const dataTable =\n",
              "          await google.colab.kernel.invokeFunction('convertToInteractive',\n",
              "                                                    [key], {});\n",
              "        if (!dataTable) return;\n",
              "\n",
              "        const docLinkHtml = 'Like what you see? Visit the ' +\n",
              "          '<a target=\"_blank\" href=https://colab.research.google.com/notebooks/data_table.ipynb>data table notebook</a>'\n",
              "          + ' to learn more about interactive tables.';\n",
              "        element.innerHTML = '';\n",
              "        dataTable['output_type'] = 'display_data';\n",
              "        await google.colab.output.renderOutput(dataTable, element);\n",
              "        const docLink = document.createElement('div');\n",
              "        docLink.innerHTML = docLinkHtml;\n",
              "        element.appendChild(docLink);\n",
              "      }\n",
              "    </script>\n",
              "  </div>\n",
              "\n",
              "\n",
              "    </div>\n",
              "  </div>\n"
            ],
            "application/vnd.google.colaboratory.intrinsic+json": {
              "type": "dataframe",
              "variable_name": "df2",
              "summary": "{\n  \"name\": \"df2\",\n  \"rows\": 2230,\n  \"fields\": [\n    {\n      \"column\": \"title\",\n      \"properties\": {\n        \"dtype\": \"string\",\n        \"num_unique_values\": 2230,\n        \"samples\": [\n          \"\\uc9f1\\uad6c\\ub294 \\ubabb\\ub9d0\\ub824 10\",\n          \"\\ube14\\ub9ac\\uce58 \\ucc9c\\ub144\\ud608\\uc804 \\ud3b8 : \\uacb0\\ubcc4\\ub2f4\",\n          \"MF\\uace0\\uc2a4\\ud2b8\"\n        ],\n        \"semantic_type\": \"\",\n        \"description\": \"\"\n      }\n    },\n    {\n      \"column\": \"genre\",\n      \"properties\": {\n        \"dtype\": \"category\",\n        \"num_unique_values\": 196,\n        \"samples\": [\n          \"SF,\\uc544\\uc774\\ub3cc\",\n          \"\\uc2a4\\ub9b4\\ub7ec,\\ud310\\ud0c0\\uc9c0\",\n          \"\\uc774\\uc138\\uacc4,\\uce58\\uc720\"\n        ],\n        \"semantic_type\": \"\",\n        \"description\": \"\"\n      }\n    },\n    {\n      \"column\": \"summary\",\n      \"properties\": {\n        \"dtype\": \"string\",\n        \"num_unique_values\": 1984,\n        \"samples\": [\n          \"\\uc0ac\\ub78c\\uc744 \\uc88b\\uc544\\ud558\\ub294 \\uace0\\ub3c5\\uc744 \\uc54c\\uc558\\ub2e4 \\ub3c4\\uc2e0\\ud68c\\uc758 \\uac04\\ubd80 \\u2018\\uc57c\\uc2dc\\ub85c\\u2019 \\ubb35\\ubb35\\ud788 \\uadf8\\uc758 \\uacc1\\uc744 \\uc9c0\\ud0a4\\ub294 \\uacbd\\ud638\\uc6d0 \\u2018\\ub3c4\\uba54\\ud0a4\\u2019 \\uc810\\ucc28 \\uc11c\\ub85c\\uac00 \\ub04c\\ub9ac\\uac8c \\ub418\\uba74\\uc11c \\uc6b4\\uba85\\uc5d0 \\ub18d\\ub77d\\ub2f9\\ud558\\ub294\\ub370.. \\uc9c0\\uae08 \\ub290\\ub07c\\ub294 \\uc774 \\uac10\\uc815\\uc740 \\uc0ac\\ub791\\uc778\\uac00, \\ub3d9\\uacbd\\uc778\\uac00?\",\n          \"\\ub3c5\\ud2b9\\ud558\\uace0 \\ud2b9\\ubcc4\\ud55c \\uacf5\\ub8e1\\ub4e4\\uc774 \\ubab0\\ub824\\uc628\\ub2e4! \\ucd5c\\uadfc \\ubc1c\\uacac\\ub41c \\uc0c8\\ub85c\\uc6b4 \\uc885\\ub958\\uc758 \\uacf5\\ub8e1 \\ud654\\uc11d\\uc744 \\ud1b5\\ud574, \\uc870\\ub958\\uc640 \\uacf5\\ub8e1\\uacfc\\uc758 \\uc5f0\\uad00\\uc131\\uc774 \\ub4dc\\ub7ec\\ub0ac\\uc73c\\uba70 \\uacf5\\ub8e1\\uc758 \\uc0c9\\uae54\\uc774 \\ubc1d\\ud600\\uc84c\\ub294\\uac00 \\ud558\\uba74, \\uc8fc\\uc5b4\\uc9c4 \\ud658\\uacbd\\uc5d0 \\uc801\\uc751\\ud574 \\ub2e4\\uc591\\ud55c \\ubaa8\\uc2b5\\uc73c\\ub85c \\uc9c4\\ud654\\ud55c \\ud754\\uc801\\ub4e4\\ub3c4 \\ucc3e\\uc744 \\uc218 \\uc788\\ub2e4. \\ub3c5\\uc744 \\uce58\\uba85\\uc801\\uc778 \\ubb34\\uae30\\ub85c \\uc0ac\\uc6a9\\ud558\\uace0, \\ub9c8\\uce58 \\uc870\\ub958\\ucc98\\ub7fc \\uc54c\\uc744 \\ud488\\uace0 \\uc0c8\\ub07c\\ub4e4\\uc744 \\ubcf4\\ud638\\ud558\\ub294 \\ub4f1 \\uacf5\\ub8e1\\uc5d0 \\ub300\\ud55c \\uae30\\uc874\\uc758 \\uace0\\uc815 \\uad00\\ub150\\uc744 \\uae68\\ub728\\ub9ac\\ub294 \\ub2e4\\uc591\\ud55c \\uacf5\\ub8e1\\ub4e4\\uc758 \\ubaa8\\uc2b5\\uc774 \\uc18c\\uac1c\\ub41c\\ub2e4. \\ub180\\ub77c\\uc6b4 \\uc0dd\\uc874 \\ub2a5\\ub825\\uacfc \\uac70\\ub300\\ud55c \\ubab8\\uc9d1\\uc744 \\ubc14\\ud0d5\\uc73c\\ub85c \\uc624\\ub7ab\\ub3d9\\uc548 \\uc9c0\\uad6c\\uc758 \\uc8fc\\uc778\\uc774\\uc5c8\\ub358 \\uacf5\\ub8e1\\uc740 \\uc601\\uc6d0\\ud788 \\uc9c0\\uad6c\\ub97c \\uc9c0\\ubc30\\ud560 \\uac83 \\uac19\\uc558\\uc9c0\\ub9cc, \\ub73b\\ud558\\uc9c0 \\uc54a\\uc740 \\uc18c\\ud589\\uc131\\uc744 \\ucda9\\ub3cc\\ub85c \\uc778\\ud574 \\uacf5\\ub8e1\\uc2dc\\ub300\\ub3c4 \\uadf8 \\ucd5c\\ud6c4\\uc758 \\uc21c\\uac04\\uc744 \\ub9de\\uc774\\ud558\\uac8c \\ub41c\\ub2e4.\",\n          \"\\uc624\\ub298\\ub3c4 \\ud3ec\\ucf13\\ubaac \\ub9c8\\uc2a4\\ud130\\uac00 \\ub418\\uae30 \\uc704\\ud574 \\uc5ec\\ud589\\uc744 \\ub5a0\\ub098\\ub294 \\uc0ac\\ud1a0\\uc2dc(\\ud55c\\uc9c0\\uc6b0)\\uc640 \\ud53c\\uce74\\uce04\\ub294 \\ud638\\uc5f0 \\uc9c0\\ubc29\\uc5d0\\uc11c \\ub9cc\\ub09c \\uc0c8\\ub85c\\uc6b4 \\ub3d9\\ub8cc \\ud558\\ub8e8\\uce74(\\ubd04\\uc774)\\uc640 \\uadf8\\ub140\\uc758 \\ub3d9\\uc0dd \\ub9c8\\uc0ac\\ud1a0(\\uc815\\uc778\\uc774) \\uadf8\\ub9ac\\uace0 \\uace0\\ud5a5\\uc774 \\ud68c\\uc0c9\\uc2dc\\ud2f0\\ub97c \\ub5a0\\ub098 \\ud568\\uaed8 \\uc5ec\\ud589\\ud558\\uac8c \\ub41c \\uc774\\uc804 \\ub3d9\\ub8cc\\uc778 \\uc6c5\\uc774\\uae4c\\uc9c0 \\ud568\\uaed8 \\uc5ec\\ud589\\uc744 \\uacc4\\uc18d\\ud558\\uace0 \\uc788\\uc5c8\\ub2e4. \\uadf8\\ub7ec\\ub358 \\ub3c4\\uc911 \\uc774\\ubc88\\uc5d0 \\ucc9c \\ub144\\uc5d0 \\ud55c \\ubc88 \\ubc16\\uc5d0 \\ubabb \\ubcf8\\ub2e4\\ub294 '\\ucc9c\\ub144\\ud61c\\uc131'\\uc744 \\ubcfc \\uc218 \\uc788\\ub2e4\\ub294 \\uc18c\\ub9ac\\ub97c \\ub4e3\\uac8c\\ub418\\uace0, \\uc774\\ub97c \\ubcf4\\uae30 \\uc704\\ud574 \\ub5a0\\ub09c \\uc0ac\\ud1a0\\uc2dc \\uc77c\\ud589. \\uae09\\ud558\\uac8c \\uc57c\\uc601 \\uc790\\ub9ac\\ub97c \\uc7a1\\uace0 \\ucde8\\uce68\\uc744 \\ud558\\ub358 \\ub3c4\\uc911 \\ubb54\\uac00 \\ub300\\ub7c9\\uc73c\\ub85c \\ubab0\\ub824\\uc624\\ub294 \\uc18c\\ub9ac\\ub97c \\ub4e3\\uac8c \\ub41c\\ub2e4. \\uadf8\\uac83\\uc758 \\uc815\\uccb4\\ub294 \\ubc14\\ub85c \\uc774\\ub3d9\\uc2dd \\ub180\\uc774\\uacf5\\uc6d0. \\ub180\\uc774\\uacf5\\uc6d0\\uc744 \\ubcf8 \\uc0ac\\ud1a0\\uc2dc \\uc77c\\ud589\\uc740 \\ub0a0\\uc774 \\uc0c8\\ub3c4\\ub85d \\ub180\\ub2e4\\uac00 '\\uadf8\\ub808\\uc774\\ud2b8 \\ubc84\\ud2c0\\ub7ec'\\ub77c\\ub294 \\uc11c\\ucee4\\uc2a4 \\ub2e8\\uc7a5\\uacfc \\uadf8\\uc758 \\uc870\\uc218 '\\ub2e4\\uc774\\uc548'\\uacfc \\ub9cc\\ub09c\\ub2e4. \\uc11c\\ucee4\\uc2a4 \\uacf5\\uc5f0 \\uc911 \\ub2e4\\uc774\\uc548\\uc774 \\ub4e4\\uace0 \\uc788\\ub294 \\ub3cc\\uc5d0\\uc11c \\ubb34\\uc5b8\\uac00\\uc758 \\uc18c\\ub9ac\\ub97c \\ub4e4\\uc740 \\ub9c8\\uc0ac\\ud1a0\\ub294 \\uc790\\uae30\\ub9c8\\uc74c\\ub300\\ub85c \\uc11c\\ucee4\\uc2a4 \\uacf5\\uc5f0\\uc5d0 \\uac1c\\uc785\\ud558\\uac8c \\ub418\\uace0, \\uc774\\ud6c4 \\uc1fc\\uc758 \\uc885\\ub8cc \\ud6c4\\uc5d0 \\ubc84\\ud2c0\\ub7ec\\uc5d0\\uac8c \\ub3cc\\uc744 \\uac74\\ub124\\ubc1b\\ub294\\ub2e4. \\uadf8\\ub9ac\\uace0 \\uadf8 \\ub0a0 \\ubc24, \\uc9c0\\uc6b0\\uc640 \\uce5c\\uad6c\\ub4e4\\uc758 \\ub208\\uc5d0 \\ucc9c\\ub144 \\ud61c\\uc131\\uc774 \\ub744\\uac8c \\ub418\\uace0, \\ub9c8\\uc0ac\\ud1a0\\ub294 \\ud558\\ub8e8\\uce74\\uac00 \\ubd80\\ub974\\ub294 \\uc790\\uc7a5\\uac00\\ub97c \\ub4e4\\uc73c\\uba70 \\uc7a0\\uc774 \\ub4e0\\ub2e4. \\uadf8 \\uc21c\\uac04 \\uac11\\uc790\\uae30 \\ub3cc\\uc774 \\ube5b\\ub098\\uba74\\uc11c \\ubaa8\\uc2b5\\uc774 \\ubcc0\\ud558\\uace0 \\ub9c8\\uce68\\ub0b4 \\ud658\\uc0c1\\uc758 \\ud3ec\\ucf13\\ubaac \\uc911 \\ud558\\ub098\\uc778 '\\uc9c0\\ub77c\\uce58'\\uac00 \\uae68\\uc5b4\\ub09c\\ub2e4. \\ud55c\\ud3b8 \\ubc84\\ud2c0\\ub7ec\\ub294 \\uc9c0\\ub77c\\uce58\\ub97c \\ubab0\\ub798 \\ub0a9\\uce58\\ud55c \\ub4a4, \\uc9c0\\ub77c\\uce58\\uc758 \\uc5d0\\ub108\\uc9c0\\ub97c \\uc774\\uc6a9\\ud55c \\uc74c\\ubaa8\\ub97c \\uafb8\\ubbf8\\uae30 \\uc2dc\\uc791\\ud558\\ub294\\ub370.........\"\n        ],\n        \"semantic_type\": \"\",\n        \"description\": \"\"\n      }\n    }\n  ]\n}"
            }
          },
          "metadata": {},
          "execution_count": 3
        }
      ]
    },
    {
      "cell_type": "code",
      "source": [
        "from sklearn.feature_extraction.text import TfidfVectorizer\n",
        "tfidf = TfidfVectorizer(stop_words='english')"
      ],
      "metadata": {
        "id": "tIAF26YdaNpy"
      },
      "execution_count": null,
      "outputs": []
    },
    {
      "cell_type": "code",
      "source": [
        "from sklearn.feature_extraction.text import ENGLISH_STOP_WORDS\n"
      ],
      "metadata": {
        "id": "PJS7yFfmc3_B"
      },
      "execution_count": null,
      "outputs": []
    },
    {
      "cell_type": "code",
      "source": [
        "df2['summary'].isnull().values.any()"
      ],
      "metadata": {
        "colab": {
          "base_uri": "https://localhost:8080/"
        },
        "id": "D0iWH02xbh7E",
        "outputId": "18e00a3a-6e4d-4e18-85d7-72c3242ed925"
      },
      "execution_count": null,
      "outputs": [
        {
          "output_type": "execute_result",
          "data": {
            "text/plain": [
              "False"
            ]
          },
          "metadata": {},
          "execution_count": 14
        }
      ]
    },
    {
      "cell_type": "code",
      "source": [
        "tfidf_matrix = tfidf.fit_transform(df2['summary'])\n",
        "tfidf_matrix.shape"
      ],
      "metadata": {
        "colab": {
          "base_uri": "https://localhost:8080/"
        },
        "id": "ICHjmIvnbuLp",
        "outputId": "f1068aeb-a6db-4934-9778-75b5474a2120"
      },
      "execution_count": null,
      "outputs": [
        {
          "output_type": "execute_result",
          "data": {
            "text/plain": [
              "(2230, 40516)"
            ]
          },
          "metadata": {},
          "execution_count": 16
        }
      ]
    },
    {
      "cell_type": "code",
      "source": [
        "from sklearn.metrics.pairwise import linear_kernel\n",
        "\n",
        "cosine_sim = linear_kernel(tfidf_matrix,tfidf_matrix)\n",
        "\n",
        "cosine_sim"
      ],
      "metadata": {
        "colab": {
          "base_uri": "https://localhost:8080/"
        },
        "id": "EZoG7eW-cInT",
        "outputId": "444c7e25-2444-4601-9fb6-3a60d747aec3"
      },
      "execution_count": null,
      "outputs": [
        {
          "output_type": "execute_result",
          "data": {
            "text/plain": [
              "array([[1.        , 0.00575962, 0.00550179, ..., 0.00609494, 0.        ,\n",
              "        0.01585575],\n",
              "       [0.00575962, 1.        , 0.026652  , ..., 0.00377214, 0.        ,\n",
              "        0.00673373],\n",
              "       [0.00550179, 0.026652  , 1.        , ..., 0.00360329, 0.        ,\n",
              "        0.00641884],\n",
              "       ...,\n",
              "       [0.00609494, 0.00377214, 0.00360329, ..., 1.        , 0.        ,\n",
              "        0.01072022],\n",
              "       [0.        , 0.        , 0.        , ..., 0.        , 1.        ,\n",
              "        0.        ],\n",
              "       [0.01585575, 0.00673373, 0.00641884, ..., 0.01072022, 0.        ,\n",
              "        1.        ]])"
            ]
          },
          "metadata": {},
          "execution_count": 17
        }
      ]
    },
    {
      "cell_type": "code",
      "source": [
        "cosine_sim.shape"
      ],
      "metadata": {
        "colab": {
          "base_uri": "https://localhost:8080/"
        },
        "id": "FOnAmbSWjSSI",
        "outputId": "8da4d291-6abf-49db-961f-c1a8ec8bc186"
      },
      "execution_count": null,
      "outputs": [
        {
          "output_type": "execute_result",
          "data": {
            "text/plain": [
              "(2230, 2230)"
            ]
          },
          "metadata": {},
          "execution_count": 18
        }
      ]
    },
    {
      "cell_type": "code",
      "source": [
        "indices = pd.Series(df2.index, index=df2['title'])\n",
        "indices"
      ],
      "metadata": {
        "colab": {
          "base_uri": "https://localhost:8080/"
        },
        "id": "HjhRxsKXjXCA",
        "outputId": "9ffeacdc-2219-459f-d162-60d6f59dc407"
      },
      "execution_count": null,
      "outputs": [
        {
          "output_type": "execute_result",
          "data": {
            "text/plain": [
              "title\n",
              "은혼 1기                        0\n",
              "주술회전 1기 part 1               1\n",
              "귀멸의 칼날                       2\n",
              "전생했더니 슬라임이었던 건에 대하여 1기       3\n",
              "꿈빛 파티시엘 리마스터                 4\n",
              "                          ... \n",
              "집이 없어                     2225\n",
              "케어베어 : 나도 상 받고 싶어         2226\n",
              "죠죠의 기묘한 모험 시즌4: 황금의 바람    2227\n",
              "벅스 프렌즈                    2228\n",
              "MONSTER                   2229\n",
              "Length: 2230, dtype: int64"
            ]
          },
          "metadata": {},
          "execution_count": 21
        }
      ]
    },
    {
      "cell_type": "code",
      "source": [
        "# 양화 제목 입력 받으면 유사도 -> 가장 유사도 높은 top10\n",
        "def get_recommendations(title,cosine_sim = cosine_sim):\n",
        "    idx= indices[title]\n",
        "\n",
        "    sim_scores = list(enumerate(cosine_sim[idx]))\n",
        "\n",
        "    sim_scores = sorted(sim_scores,key=lambda x:x[1],reverse=True)\n",
        "\n",
        "    sim_scores = sim_scores[1:11]\n",
        "\n",
        "    test_any_indices = [i[0] for i in sim_scores]\n",
        "\n",
        "    return df2['title'].iloc[test_any_indices]\n",
        "\n",
        "\n"
      ],
      "metadata": {
        "id": "Cz_NRRg4jl2C"
      },
      "execution_count": null,
      "outputs": []
    },
    {
      "cell_type": "code",
      "source": [
        "test_idx = indices['귀멸의 칼날']\n",
        "test_idx"
      ],
      "metadata": {
        "colab": {
          "base_uri": "https://localhost:8080/"
        },
        "id": "XUAYdOjDkKm1",
        "outputId": "a870ce5a-753c-4641-dfef-a4540c5f05f0"
      },
      "execution_count": null,
      "outputs": [
        {
          "output_type": "execute_result",
          "data": {
            "text/plain": [
              "2"
            ]
          },
          "metadata": {},
          "execution_count": 22
        }
      ]
    },
    {
      "cell_type": "code",
      "source": [
        "cosine_sim[2]"
      ],
      "metadata": {
        "colab": {
          "base_uri": "https://localhost:8080/"
        },
        "id": "SOw3zRvukKjm",
        "outputId": "dd38c780-90a4-40cf-ecea-677b5f349d07"
      },
      "execution_count": null,
      "outputs": [
        {
          "output_type": "execute_result",
          "data": {
            "text/plain": [
              "array([0.00550179, 0.026652  , 1.        , ..., 0.00360329, 0.        ,\n",
              "       0.00641884])"
            ]
          },
          "metadata": {},
          "execution_count": 23
        }
      ]
    },
    {
      "cell_type": "code",
      "source": [
        "test_sim_scores=list(enumerate(cosine_sim[3]))  # 코사인 유사도 매트리스 (cosine_sim)에서 idx에 해당하는 데이터를(idx, 유사도)형태로 얻기"
      ],
      "metadata": {
        "id": "u5ApL-c8kKgU"
      },
      "execution_count": null,
      "outputs": []
    },
    {
      "cell_type": "code",
      "source": [
        "test_sim_scores = sorted(test_sim_scores,key=lambda x:x[1],reverse=True)\n",
        "test_sim_scores[1:11] #  자기 제외 한 10개 추천"
      ],
      "metadata": {
        "colab": {
          "base_uri": "https://localhost:8080/"
        },
        "id": "7UDgERFWkL_U",
        "outputId": "45bd57a4-028d-4453-ca85-1d13aacac293"
      },
      "execution_count": null,
      "outputs": [
        {
          "output_type": "execute_result",
          "data": {
            "text/plain": [
              "[(539, 0.9999999999999999),\n",
              " (184, 0.08555127232022884),\n",
              " (177, 0.05875153923193569),\n",
              " (2070, 0.05130956075460931),\n",
              " (1398, 0.05130709476241843),\n",
              " (400, 0.05103058761526067),\n",
              " (319, 0.048002141791299496),\n",
              " (540, 0.04782600580669891),\n",
              " (288, 0.04780530167049746),\n",
              " (2198, 0.04627604806509695)]"
            ]
          },
          "metadata": {},
          "execution_count": 26
        }
      ]
    },
    {
      "cell_type": "code",
      "source": [
        "# 추천 영화 목록 10개 인덱스 정보\n",
        "test_any_indices = [i[0] for i in test_sim_scores[1:11]]\n",
        "test_any_indices"
      ],
      "metadata": {
        "colab": {
          "base_uri": "https://localhost:8080/"
        },
        "id": "pRk80zeTkL8n",
        "outputId": "59a2fff2-9310-4f64-845d-0e70fbc21b8b"
      },
      "execution_count": null,
      "outputs": [
        {
          "output_type": "execute_result",
          "data": {
            "text/plain": [
              "[539, 184, 177, 2070, 1398, 400, 319, 540, 288, 2198]"
            ]
          },
          "metadata": {},
          "execution_count": 27
        }
      ]
    },
    {
      "cell_type": "code",
      "source": [
        "# 인덱스 정보를 통해 영화 제목 추출\n",
        "df2['title'].iloc[test_any_indices]"
      ],
      "metadata": {
        "colab": {
          "base_uri": "https://localhost:8080/"
        },
        "id": "MNDYF3WFmYjs",
        "outputId": "b4c19c70-7b00-47ca-dfc1-e8bce41e26b1"
      },
      "execution_count": null,
      "outputs": [
        {
          "output_type": "execute_result",
          "data": {
            "text/plain": [
              "539                      전생했더니 슬라임이었던 건에 대하여 OAD\n",
              "184               전생했더니 슬라임이었던 건에 대하여 : 전생슬라임 일기\n",
              "177                                    나만이 없는 거리\n",
              "2070                                  로티프렌즈 뚝딱미술\n",
              "1398                               헬로 카봇 시즌 13 젬\n",
              "400                                      이세계 콰르텟\n",
              "319                       단간론파 : 희망의 학교와 절망의 고교생\n",
              "540                                    이세계 콰르텟 2\n",
              "288     전생현자의 이세계 라이프 ~두 번째 직업을 얻고 세계 최강이 되었습니다~\n",
              "2198                           실바니안 패밀리: 프레야의 선물\n",
              "Name: title, dtype: object"
            ]
          },
          "metadata": {},
          "execution_count": 28
        }
      ]
    },
    {
      "cell_type": "markdown",
      "source": [
        "# 원하는 영화 넣어서 추천 받기"
      ],
      "metadata": {
        "id": "DQmgSpGBnGsj"
      }
    },
    {
      "cell_type": "code",
      "source": [
        "df2['title'][:15]"
      ],
      "metadata": {
        "colab": {
          "base_uri": "https://localhost:8080/"
        },
        "id": "ojUKa5LInJJU",
        "outputId": "d176e460-c914-4ca3-df1f-396ffad30b72"
      },
      "execution_count": null,
      "outputs": [
        {
          "output_type": "execute_result",
          "data": {
            "text/plain": [
              "0                      은혼 1기\n",
              "1             주술회전 1기 part 1\n",
              "2                     귀멸의 칼날\n",
              "3     전생했더니 슬라임이었던 건에 대하여 1기\n",
              "4               꿈빛 파티시엘 리마스터\n",
              "5           귀멸의 칼날 : 환락의 거리편\n",
              "6                   하이큐!! 1기\n",
              "7             주술회전 1기 part 2\n",
              "8                   하이큐!! 2기\n",
              "9          SPY×FAMILY part 1\n",
              "10           귀멸의 칼날 : 도공 마을편\n",
              "11                 데스노트 리마스터\n",
              "12                   장송의 프리렌\n",
              "13                 진격의 거인 1기\n",
              "14                    최애의 아이\n",
              "Name: title, dtype: object"
            ]
          },
          "metadata": {},
          "execution_count": 30
        }
      ]
    },
    {
      "cell_type": "markdown",
      "source": [
        "## 귀멸의 칼날과 비슷한 애니 top10"
      ],
      "metadata": {
        "id": "gB7kgJngnfOA"
      }
    },
    {
      "cell_type": "code",
      "source": [
        "get_recommendations('귀멸의 칼날')"
      ],
      "metadata": {
        "colab": {
          "base_uri": "https://localhost:8080/"
        },
        "id": "eiT81Nplmmsu",
        "outputId": "447400d9-a6e7-494b-b446-01ec008569c1"
      },
      "execution_count": null,
      "outputs": [
        {
          "output_type": "execute_result",
          "data": {
            "text/plain": [
              "106          귀멸의 칼날 : 무한열차편\n",
              "708         귀멸의 칼날 : 나타구모산편\n",
              "970          귀멸의 칼날 : 아사쿠사편\n",
              "170                우라미치 선생님\n",
              "1949              반도에 살어리랏다\n",
              "9         SPY×FAMILY part 1\n",
              "23        SPY×FAMILY part 2\n",
              "86      SPY×FAMILY Season 2\n",
              "243                    닥터스톤\n",
              "1095         귀멸의 칼날 : 장구저택편\n",
              "Name: title, dtype: object"
            ]
          },
          "metadata": {},
          "execution_count": 34
        }
      ]
    },
    {
      "cell_type": "code",
      "source": [],
      "metadata": {
        "id": "qunpsTydnN9N"
      },
      "execution_count": null,
      "outputs": []
    }
  ]
}